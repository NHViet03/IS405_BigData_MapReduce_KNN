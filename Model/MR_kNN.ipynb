{
 "cells": [
  {
   "cell_type": "code",
   "execution_count": 1,
   "metadata": {
    "id": "L9diyWDiiH8w"
   },
   "outputs": [],
   "source": [
    "from pyspark.sql import SparkSession\n",
    "from pyspark.sql import SparkSession\n",
    "from pyspark.sql.functions import col, monotonically_increasing_id\n",
    "from pyspark.ml.linalg import Vectors\n",
    "import numpy as np\n",
    "from collections import defaultdict\n",
    "from pyspark.ml.feature import VectorAssembler\n",
    "import matplotlib.pyplot as plt\n",
    "import seaborn as sns"
   ]
  },
  {
   "cell_type": "code",
   "execution_count": 2,
   "metadata": {
    "colab": {
     "base_uri": "https://localhost:8080/",
     "height": 219
    },
    "id": "J3LbF3-aiW4k",
    "outputId": "002c99d7-e4d8-451b-b161-ea6be99a7dcf"
   },
   "outputs": [
    {
     "data": {
      "text/html": [
       "\n",
       "            <div>\n",
       "                <p><b>SparkSession - in-memory</b></p>\n",
       "                \n",
       "        <div>\n",
       "            <p><b>SparkContext</b></p>\n",
       "\n",
       "            <p><a href=\"http://DESKTOP-VJLJQ69:4042\">Spark UI</a></p>\n",
       "\n",
       "            <dl>\n",
       "              <dt>Version</dt>\n",
       "                <dd><code>v3.5.1</code></dd>\n",
       "              <dt>Master</dt>\n",
       "                <dd><code>local[*]</code></dd>\n",
       "              <dt>AppName</dt>\n",
       "                <dd><code>Big Data Classification</code></dd>\n",
       "            </dl>\n",
       "        </div>\n",
       "        \n",
       "            </div>\n",
       "        "
      ],
      "text/plain": [
       "<pyspark.sql.session.SparkSession at 0x215a8e28550>"
      ]
     },
     "execution_count": 2,
     "metadata": {},
     "output_type": "execute_result"
    }
   ],
   "source": [
    "spark = SparkSession.builder.appName(\"Big Data Classification\").getOrCreate()\n",
    "spark"
   ]
  },
  {
   "cell_type": "code",
   "execution_count": 4,
   "metadata": {
    "colab": {
     "base_uri": "https://localhost:8080/"
    },
    "id": "DWSn6iRhic1T",
    "outputId": "6f8c3cda-ddb1-43b4-ecc1-4d805bb33fdd"
   },
   "outputs": [
    {
     "name": "stdout",
     "output_type": "stream",
     "text": [
      "+---+-------+-------+-------+----+---+-----+--------+-----+--------+-----------+-----------------+------------------+-------------------+------------+\n",
      "|age|marital|default|housing|loan|day|month|campaign|pdays|previous|job_indexed|education_indexed|balance_normalized|duration_normalized|term_deposit|\n",
      "+---+-------+-------+-------+----+---+-----+--------+-----+--------+-----------+-----------------+------------------+-------------------+------------+\n",
      "| 58|      2|      0|      1|   0|  5|    5|       1|   -1|       0|          1|                1|       0.849311927|        0.466905188|           0|\n",
      "| 44|      1|      0|      1|   0|  5|    5|       1|   -1|       0|          2|                0|       0.364449541|        0.270125224|           0|\n",
      "| 33|      2|      0|      1|   1|  5|    5|       1|   -1|       0|          7|                0|       0.358256881|        0.135957066|           0|\n",
      "| 47|      2|      0|      1|   0|  5|    5|       1|   -1|       0|          0|                3|       0.703211009|        0.164579606|           0|\n",
      "| 33|      1|      0|      0|   0|  5|    5|       1|   -1|       0|         11|                3|       0.358027523|        0.354203936|           0|\n",
      "| 35|      2|      0|      1|   0|  5|    5|       1|   -1|       0|          1|                1|       0.410779817|        0.248658318|           0|\n",
      "| 28|      1|      0|      1|   1|  5|    5|       1|   -1|       0|          1|                1|       0.460321101|        0.388193202|           0|\n",
      "| 42|      0|      1|      1|   0|  5|    5|       1|   -1|       0|          7|                1|       0.358256881|        0.679785331|           0|\n",
      "| 58|      2|      0|      1|   0|  5|    5|       1|   -1|       0|          5|                2|       0.385550459|        0.089445438|           0|\n",
      "| 43|      1|      0|      1|   0|  5|    5|       1|   -1|       0|          2|                0|       0.493807339|        0.098389982|           0|\n",
      "| 41|      0|      0|      1|   0|  5|    5|       1|   -1|       0|          3|                0|       0.419724771|        0.397137746|           0|\n",
      "| 29|      1|      0|      1|   0|  5|    5|       1|   -1|       0|          3|                0|       0.447247706|        0.245080501|           0|\n",
      "| 53|      2|      0|      1|   0|  5|    5|       1|   -1|       0|          2|                0|       0.359174312|        0.924865832|           0|\n",
      "| 58|      2|      0|      1|   0|  5|    5|       1|   -1|       0|          2|                3|       0.374082569|        0.127012522|           0|\n",
      "| 57|      2|      0|      1|   0|  5|    5|       1|   -1|       0|          4|                0|       0.394954128|        0.311270125|           0|\n",
      "| 51|      2|      0|      1|   0|  5|    5|       1|   -1|       0|          5|                2|       0.410321101|        0.631484794|           0|\n",
      "| 45|      1|      0|      1|   0|  5|    5|       1|   -1|       0|          3|                3|       0.360779817|        0.175313059|           0|\n",
      "| 57|      2|      0|      1|   0|  5|    5|       1|   -1|       0|          0|                2|       0.369724771|        0.067978533|           0|\n",
      "| 60|      2|      0|      1|   0|  5|    5|       1|   -1|       0|          5|                2|       0.371559633|         0.39177102|           0|\n",
      "| 33|      2|      0|      1|   0|  5|    5|       1|   -1|       0|          4|                0|       0.357798165|        0.096601073|           0|\n",
      "+---+-------+-------+-------+----+---+-----+--------+-----+--------+-----------+-----------------+------------------+-------------------+------------+\n",
      "only showing top 20 rows\n",
      "\n"
     ]
    }
   ],
   "source": [
    "df = spark.read.csv('BankCustomerData_Processed.csv', header=True, inferSchema=True)\n",
    "df.show()"
   ]
  },
  {
   "cell_type": "code",
   "execution_count": 7,
   "metadata": {},
   "outputs": [
    {
     "name": "stdout",
     "output_type": "stream",
     "text": [
      "+-----+--------------------+------------+\n",
      "|   id|            features|term_deposit|\n",
      "+-----+--------------------+------------+\n",
      "|42146|[18.0,1.0,0.0,0.0...|           0|\n",
      "|41487|[18.0,1.0,0.0,0.0...|           1|\n",
      "|40736|[18.0,1.0,0.0,0.0...|           0|\n",
      "|40887|[18.0,1.0,0.0,0.0...|           1|\n",
      "|42274|[18.0,1.0,0.0,0.0...|           1|\n",
      "|41252|[18.0,1.0,0.0,0.0...|           0|\n",
      "|31492|[19.0,1.0,0.0,0.0...|           1|\n",
      "|41402|[19.0,1.0,0.0,0.0...|           0|\n",
      "|34288|[19.0,1.0,0.0,0.0...|           0|\n",
      "|34281|[19.0,1.0,0.0,0.0...|           0|\n",
      "|31263|[19.0,1.0,0.0,0.0...|           0|\n",
      "|34675|[19.0,1.0,0.0,0.0...|           0|\n",
      "|30791|[19.0,1.0,0.0,0.0...|           0|\n",
      "|41706|[19.0,1.0,0.0,0.0...|           0|\n",
      "|41500|[19.0,1.0,0.0,0.0...|           0|\n",
      "|40564|[19.0,1.0,0.0,0.0...|           1|\n",
      "|31041|[19.0,1.0,0.0,0.0...|           0|\n",
      "|40927|[19.0,1.0,0.0,0.0...|           0|\n",
      "|42488|[19.0,1.0,0.0,0.0...|           0|\n",
      "|32169|[19.0,1.0,0.0,0.0...|           0|\n",
      "+-----+--------------------+------------+\n",
      "only showing top 20 rows\n",
      "\n"
     ]
    }
   ],
   "source": [
    "# Thêm cột id để đảm bảo sắp xếp không thay đổi\n",
    "df = df.withColumn(\"id\", monotonically_increasing_id())\n",
    "\n",
    "train_data, test_data = df.randomSplit([0.8, 0.2], seed=42)\n",
    "\n",
    "# Chọn các cột tính năng\n",
    "feature_cols = [col for col in df.columns if col != 'term_deposit' and col != 'id']\n",
    "\n",
    "# Sử dụng VectorAssembler để tạo cột features từ các cột tính năng\n",
    "assembler = VectorAssembler(inputCols=feature_cols, outputCol=\"features\")\n",
    "train_data = assembler.transform(train_data)\n",
    "test_data = assembler.transform(test_data)\n",
    "\n",
    "# Chọn cột features và term_deposit để sử dụng trong quá trình tính toán\n",
    "train_data = train_data.select(\"id\", \"features\", \"term_deposit\")\n",
    "test_data = test_data.select(\"id\", \"features\")\n",
    "train_data.show()"
   ]
  },
  {
   "cell_type": "code",
   "execution_count": null,
   "metadata": {},
   "outputs": [],
   "source": [
    "def euclidean_distance(v1, v2):\n",
    "    return np.sqrt(np.sum((np.array(v1) - np.array(v2)) ** 2))\n",
    "\n",
    "# Hàm tính khoảng cách và tìm k láng giềng gần nhất\n",
    "def compute_distances(test_point, train_data_parttion, k):\n",
    "    neighbors = []\n",
    "    for train_point in train_data_partitions:\n",
    "        distance = euclidean_distance(test_point.features, train_point.features)\n",
    "        neighbors.append((train_point.term_deposit, distance))\n",
    "    neighbors.sort(key=lambda x: x[1])\n",
    "    return neighbors[:k]\n",
    "    "
   ]
  },
  {
   "cell_type": "code",
   "execution_count": null,
   "metadata": {},
   "outputs": [],
   "source": [
    "# Thực hiện Map Phase để tính toán khoảng cách và tìm k láng giềng gần nhất\n",
    "def map_phase(partition, test_data_broadcast, k):\n",
    "    test_data = test_data_broadcast.value\n",
    "    results = []\n",
    "    for test_point in test_data:\n",
    "        neighbors = compute_distances(test_point, partition, k)\n",
    "        results.append((test_point.id, neighbors))\n",
    "    return results"
   ]
  },
  {
   "cell_type": "code",
   "execution_count": null,
   "metadata": {},
   "outputs": [],
   "source": [
    "# Khởi tạo ma trận CDreducer\n",
    "def initialize_CDreducer(test_data_size, k):\n",
    "    CDreducer = defaultdict(lambda: [(float('inf'), None)] * k)\n",
    "    return CDreducer\n",
    "\n",
    "# Cập nhật ma trận CDreducer\n",
    "def update_CDreducer(nearest_neighbors, CDreducer):\n",
    "    for point_id, neighbors in nearest_neighbors.collect():\n",
    "        current_neighbors = CDreducer[point_id]\n",
    "        for neighbor in neighbors:\n",
    "            for i, (dist, _) in enumerate(current_neighbors):\n",
    "                if neighbor[1] < dist:\n",
    "                    current_neighbors.insert(i, neighbor)\n",
    "                    current_neighbors.pop()\n",
    "                    break\n",
    "\n",
    "# Thực hiện bầu chọn đa số để dự đoán nhãn cho tập test\n",
    "def majority_vote(CDreducer):\n",
    "    predictions = [(point_id, max(neighbors, key=lambda x: x[1])[0]) for point_id, neighbors in CDreducer.items()]\n",
    "    return predictions"
   ]
  },
  {
   "cell_type": "code",
   "execution_count": 8,
   "metadata": {
    "id": "p4NFCrMziqX5"
   },
   "outputs": [],
   "source": [
    "import time\n",
    "\n",
    "start_time =  time.time()\n",
    "\n",
    "# Chia dữ liệu huấn luyện thành các phần nhỏ\n",
    "num_partitions = 4\n",
    "train_data_partitions = train_data.repartition(num_partitions)\n",
    "\n",
    "# Broadcast tập test_data để truy cập từ các worker\n",
    "test_data_broadcast = spark.sparkContext.broadcast(test_data.collect())\n",
    "\n",
    "# Số lượng láng giềng gần nhất cần tìm\n",
    "k = 5\n",
    "\n",
    "# Thực hiện Map Phase\n",
    "mapped_data = train_data_partitions.rdd.mapPartitions(lambda partition: map_phase(partition, test_data_broadcast, k))\n",
    "\n",
    "# Khởi tạo ma trận CDreducer\n",
    "CDreducer = initialize_CDreducer(test_data.count(), k)\n",
    "\n",
    "# Cập nhật ma trận CDreducer\n",
    "update_CDreducer(mapped_data, CDreducer)\n",
    "\n",
    "# Thực hiện bầu chọn đa số để dự đoán nhãn cho tập test\n",
    "predictions = majority_vote(CDreducer)\n",
    "\n",
    "end_time = time.time()\n"
   ]
  },
  {
   "cell_type": "code",
   "execution_count": 8,
   "metadata": {
    "colab": {
     "base_uri": "https://localhost:8080/"
    },
    "id": "yi3s17dmis4T",
    "outputId": "c5801361-11d7-4dea-a635-f4549474a20a"
   },
   "outputs": [
    {
     "name": "stdout",
     "output_type": "stream",
     "text": [
      "Accuracy: 0.8638602251407129\n",
      "Time running: 3667s\n",
      "+------------+----------+-----+\n",
      "|term_deposit|prediction|count|\n",
      "+------------+----------+-----+\n",
      "|           1|         0|  608|\n",
      "|           0|         0| 7249|\n",
      "|           0|         1|  553|\n",
      "|           1|         1|  118|\n",
      "+------------+----------+-----+\n",
      "\n"
     ]
    }
   ],
   "source": [
    "\n",
    "# Chuyển đổi predictions thành DataFrame\n",
    "predictions_df = spark.createDataFrame(predictions, [\"id\", \"prediction\"])\n",
    "\n",
    "# Thêm nhãn thực tế vào các dự đoán\n",
    "test_data_with_labels = test_data.join(df.select(\"id\", \"term_deposit\"), on=\"id\", how=\"inner\")\n",
    "predictions_with_labels = predictions_df.join(test_data_with_labels, on=\"id\", how=\"inner\")\n",
    "\n",
    "\n",
    "accuracy = predictions_with_labels.filter(predictions_with_labels.prediction == predictions_with_labels.term_deposit).count() / predictions_with_labels.count()\n",
    "print(f\"Accuracy: {accuracy}\")\n",
    "print(f\"Time running: {end_time - start_time}s\")\n",
    "\n",
    "# Tạo ma trận nhầm lẫn\n",
    "confusion_matrix = predictions_with_labels.groupBy(\"term_deposit\", \"prediction\").count()\n",
    "confusion_matrix.show()\n",
    "# Dừng SparkSession\n",
    "spark.stop()"
   ]
  },
  {
   "cell_type": "code",
   "execution_count": 14,
   "metadata": {
    "colab": {
     "base_uri": "https://localhost:8080/",
     "height": 564
    },
    "id": "GnaGJKPWMzzX",
    "outputId": "dd10a32f-6b31-4201-8758-d3e662d17d48"
   },
   "outputs": [
    {
     "data": {
      "image/png": "[encoded data removed]",
      "text/plain": [
       "<Figure size 800x600 with 1 Axes>"
      ]
     },
     "metadata": {},
     "output_type": "display_data"
    }
   ],
   "source": [
    "plt.figure(figsize=(8, 6))\n",
    "sns.heatmap(confusion_matrix, annot=True, fmt=\"d\", cmap=\"Blues\", cbar=False)\n",
    "plt.title(\"Confusion Matrix\")\n",
    "plt.xlabel(\"Predicted Label\")\n",
    "plt.ylabel(\"True Label\")\n",
    "plt.show()"
   ]
  }
 ],
 "metadata": {
  "colab": {
   "provenance": []
  },
  "kernelspec": {
   "display_name": "Python 3 (ipykernel)",
   "language": "python",
   "name": "python3"
  },
  "language_info": {
   "codemirror_mode": {
    "name": "ipython",
    "version": 3
   },
   "file_extension": ".py",
   "mimetype": "text/x-python",
   "name": "python",
   "nbconvert_exporter": "python",
   "pygments_lexer": "ipython3",
   "version": "3.11.7"
  }
 },
 "nbformat": 4,
 "nbformat_minor": 4
}
